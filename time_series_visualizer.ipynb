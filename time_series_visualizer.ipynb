{
 "cells": [
  {
   "cell_type": "code",
   "execution_count": 12,
   "metadata": {},
   "outputs": [],
   "source": [
    "import pandas as pd\n",
    "import matplotlib.pyplot as plt\n",
    "import seaborn as sb"
   ]
  },
  {
   "cell_type": "code",
   "execution_count": 13,
   "metadata": {},
   "outputs": [
    {
     "data": {
      "text/html": [
       "<div>\n",
       "<style scoped>\n",
       "    .dataframe tbody tr th:only-of-type {\n",
       "        vertical-align: middle;\n",
       "    }\n",
       "\n",
       "    .dataframe tbody tr th {\n",
       "        vertical-align: top;\n",
       "    }\n",
       "\n",
       "    .dataframe thead th {\n",
       "        text-align: right;\n",
       "    }\n",
       "</style>\n",
       "<table border=\"1\" class=\"dataframe\">\n",
       "  <thead>\n",
       "    <tr style=\"text-align: right;\">\n",
       "      <th></th>\n",
       "      <th>value</th>\n",
       "    </tr>\n",
       "    <tr>\n",
       "      <th>date</th>\n",
       "      <th></th>\n",
       "    </tr>\n",
       "  </thead>\n",
       "  <tbody>\n",
       "    <tr>\n",
       "      <th>2016-05-09</th>\n",
       "      <td>1201</td>\n",
       "    </tr>\n",
       "    <tr>\n",
       "      <th>2016-05-10</th>\n",
       "      <td>2329</td>\n",
       "    </tr>\n",
       "    <tr>\n",
       "      <th>2016-05-11</th>\n",
       "      <td>1716</td>\n",
       "    </tr>\n",
       "    <tr>\n",
       "      <th>2016-05-12</th>\n",
       "      <td>10539</td>\n",
       "    </tr>\n",
       "    <tr>\n",
       "      <th>2016-05-13</th>\n",
       "      <td>6933</td>\n",
       "    </tr>\n",
       "    <tr>\n",
       "      <th>...</th>\n",
       "      <td>...</td>\n",
       "    </tr>\n",
       "    <tr>\n",
       "      <th>2019-11-29</th>\n",
       "      <td>171584</td>\n",
       "    </tr>\n",
       "    <tr>\n",
       "      <th>2019-11-30</th>\n",
       "      <td>141161</td>\n",
       "    </tr>\n",
       "    <tr>\n",
       "      <th>2019-12-01</th>\n",
       "      <td>142918</td>\n",
       "    </tr>\n",
       "    <tr>\n",
       "      <th>2019-12-02</th>\n",
       "      <td>220144</td>\n",
       "    </tr>\n",
       "    <tr>\n",
       "      <th>2019-12-03</th>\n",
       "      <td>158549</td>\n",
       "    </tr>\n",
       "  </tbody>\n",
       "</table>\n",
       "<p>1304 rows × 1 columns</p>\n",
       "</div>"
      ],
      "text/plain": [
       "             value\n",
       "date              \n",
       "2016-05-09    1201\n",
       "2016-05-10    2329\n",
       "2016-05-11    1716\n",
       "2016-05-12   10539\n",
       "2016-05-13    6933\n",
       "...            ...\n",
       "2019-11-29  171584\n",
       "2019-11-30  141161\n",
       "2019-12-01  142918\n",
       "2019-12-02  220144\n",
       "2019-12-03  158549\n",
       "\n",
       "[1304 rows x 1 columns]"
      ]
     },
     "execution_count": 13,
     "metadata": {},
     "output_type": "execute_result"
    }
   ],
   "source": [
    "df = pd.read_csv('fcc-forum-pageviews.csv', index_col = 'date')\n",
    "df\n"
   ]
  },
  {
   "cell_type": "code",
   "execution_count": 16,
   "metadata": {},
   "outputs": [
    {
     "data": {
      "text/html": [
       "<div>\n",
       "<style scoped>\n",
       "    .dataframe tbody tr th:only-of-type {\n",
       "        vertical-align: middle;\n",
       "    }\n",
       "\n",
       "    .dataframe tbody tr th {\n",
       "        vertical-align: top;\n",
       "    }\n",
       "\n",
       "    .dataframe thead th {\n",
       "        text-align: right;\n",
       "    }\n",
       "</style>\n",
       "<table border=\"1\" class=\"dataframe\">\n",
       "  <thead>\n",
       "    <tr style=\"text-align: right;\">\n",
       "      <th></th>\n",
       "      <th>value</th>\n",
       "    </tr>\n",
       "    <tr>\n",
       "      <th>date</th>\n",
       "      <th></th>\n",
       "    </tr>\n",
       "  </thead>\n",
       "  <tbody>\n",
       "    <tr>\n",
       "      <th>2016-05-10</th>\n",
       "      <td>2329</td>\n",
       "    </tr>\n",
       "    <tr>\n",
       "      <th>2016-05-11</th>\n",
       "      <td>1716</td>\n",
       "    </tr>\n",
       "    <tr>\n",
       "      <th>2016-05-12</th>\n",
       "      <td>10539</td>\n",
       "    </tr>\n",
       "    <tr>\n",
       "      <th>2016-05-13</th>\n",
       "      <td>6933</td>\n",
       "    </tr>\n",
       "    <tr>\n",
       "      <th>2016-05-14</th>\n",
       "      <td>3127</td>\n",
       "    </tr>\n",
       "    <tr>\n",
       "      <th>...</th>\n",
       "      <td>...</td>\n",
       "    </tr>\n",
       "    <tr>\n",
       "      <th>2019-11-29</th>\n",
       "      <td>171584</td>\n",
       "    </tr>\n",
       "    <tr>\n",
       "      <th>2019-11-30</th>\n",
       "      <td>141161</td>\n",
       "    </tr>\n",
       "    <tr>\n",
       "      <th>2019-12-01</th>\n",
       "      <td>142918</td>\n",
       "    </tr>\n",
       "    <tr>\n",
       "      <th>2019-12-02</th>\n",
       "      <td>220144</td>\n",
       "    </tr>\n",
       "    <tr>\n",
       "      <th>2019-12-03</th>\n",
       "      <td>158549</td>\n",
       "    </tr>\n",
       "  </tbody>\n",
       "</table>\n",
       "<p>1299 rows × 1 columns</p>\n",
       "</div>"
      ],
      "text/plain": [
       "             value\n",
       "date              \n",
       "2016-05-10    2329\n",
       "2016-05-11    1716\n",
       "2016-05-12   10539\n",
       "2016-05-13    6933\n",
       "2016-05-14    3127\n",
       "...            ...\n",
       "2019-11-29  171584\n",
       "2019-11-30  141161\n",
       "2019-12-01  142918\n",
       "2019-12-02  220144\n",
       "2019-12-03  158549\n",
       "\n",
       "[1299 rows x 1 columns]"
      ]
     },
     "execution_count": 16,
     "metadata": {},
     "output_type": "execute_result"
    }
   ],
   "source": [
    "minimo = df['value'].min()\n",
    "maximo = df['value'].max()\n",
    "\n",
    "# O sea, hay que dejar todos los datos que estén sobre el 2.5% del mínimo, y bajo el 2.5% del maximo\n",
    "valor_minimo = minimo + (minimo * 0.025)\n",
    "valor_maximo = maximo - (maximo * 0.025)\n",
    "\n",
    "mask_minimo = df['value'] > (valor_minimo)\n",
    "mask_maximo = df['value'] < (valor_maximo)\n",
    "\n",
    "mask_total = (mask_minimo) & (mask_maximo)\n",
    "\n",
    "df = df[mask_total]\n",
    "df"
   ]
  },
  {
   "cell_type": "code",
   "execution_count": 17,
   "metadata": {},
   "outputs": [
    {
     "data": {
      "text/plain": [
       "[<matplotlib.lines.Line2D at 0x206bcfd5690>]"
      ]
     },
     "execution_count": 17,
     "metadata": {},
     "output_type": "execute_result"
    },
    {
     "data": {
      "image/png": "[encoded data removed]",
      "text/plain": [
       "<Figure size 864x432 with 1 Axes>"
      ]
     },
     "metadata": {
      "needs_background": "light"
     },
     "output_type": "display_data"
    }
   ],
   "source": [
    "fig, axis = plt.subplots(figsize = (12, 6))\n",
    "\n",
    "axis.set_xlabel('Date')\n",
    "axis.set_ylabel('Page Views')\n",
    "axis.set_title('Daily freeCodeCamp Forum Page Views 5/2016-12/2019')\n",
    "axis.plot(df)\n",
    "\n"
   ]
  },
  {
   "cell_type": "code",
   "execution_count": null,
   "metadata": {},
   "outputs": [],
   "source": []
  },
  {
   "cell_type": "code",
   "execution_count": 44,
   "metadata": {},
   "outputs": [
    {
     "data": {
      "text/plain": [
       "{'2016': {'12': value    20197\n",
       "  Name: 2016-12-31, dtype: int64},\n",
       " '2017': {'12': value    42616\n",
       "  Name: 2017-12-31, dtype: int64},\n",
       " '2018': {'12': value    60481\n",
       "  Name: 2018-12-31, dtype: int64},\n",
       " '2019': {'10': value    189965\n",
       "  Name: 2019-10-31, dtype: int64}}"
      ]
     },
     "execution_count": 44,
     "metadata": {},
     "output_type": "execute_result"
    }
   ],
   "source": [
    "diccionario_total = {}\n",
    "\n",
    "mes_previo = None\n",
    "dias_en_el_mes = 0\n",
    "\n",
    "for fecha in df.index:\n",
    "    \n",
    "    parse = fecha.split('-')\n",
    "    año = parse[0]\n",
    "    mes = parse[1]\n",
    "    dia = parse[2]\n",
    "\n",
    "    if año not in diccionario_total.keys():\n",
    "        diccionario_total[año] = {f'{mes}': df.loc[fecha]}\n",
    "        dias_en_el_mes = 1\n",
    "\n",
    "    if mes != mes_previo:\n",
    "        # Si se cumple esto, significa que acabamos de pasar al otro mes\n",
    "        # En ese caso, ya se terminó de sumar todo, por lo tanto, es momento de sacar el promedio\n",
    "        if mes_previo:\n",
    "            # Si existía un mes anterior, entonces hay que sacar el promedio. Si no, es porque \n",
    "            # recien estamos empezando en el algoritmo.\n",
    "            promedio = diccionario_total[año][mes_previo] / dias_en_el_mes\n",
    "            diccionario_total[año][mes_previo] = promedio\n",
    "\n",
    "        # Además, se debe agregar la nueva entrada al diccionario\n",
    "        diccionario_total[año] = {f'{mes}': df.loc[fecha]}\n",
    "        dias_en_el_mes = 1\n",
    "\n",
    "    else:\n",
    "        diccionario_total[año][mes] += df.loc[fecha]\n",
    "        dias_en_el_mes += 1\n",
    "\n",
    "diccionario_total"
   ]
  },
  {
   "cell_type": "code",
   "execution_count": 42,
   "metadata": {},
   "outputs": [
    {
     "data": {
      "text/plain": [
       "value    16098\n",
       "Name: 2016-06-11, dtype: int64"
      ]
     },
     "execution_count": 42,
     "metadata": {},
     "output_type": "execute_result"
    }
   ],
   "source": [
    "df.loc['2016-06-11']"
   ]
  },
  {
   "cell_type": "code",
   "execution_count": null,
   "metadata": {},
   "outputs": [],
   "source": []
  }
 ],
 "metadata": {
  "interpreter": {
   "hash": "f176156792602309ec26ef65effd58c64667a7b3f6d4d0d17e60b14ddcaee01f"
  },
  "kernelspec": {
   "display_name": "Python 3.10.2 64-bit",
   "language": "python",
   "name": "python3"
  },
  "language_info": {
   "codemirror_mode": {
    "name": "ipython",
    "version": 3
   },
   "file_extension": ".py",
   "mimetype": "text/x-python",
   "name": "python",
   "nbconvert_exporter": "python",
   "pygments_lexer": "ipython3",
   "version": "3.10.2"
  },
  "orig_nbformat": 4
 },
 "nbformat": 4,
 "nbformat_minor": 2
}
