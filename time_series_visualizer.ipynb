{
 "cells": [
  {
   "cell_type": "code",
   "execution_count": 12,
   "metadata": {},
   "outputs": [],
   "source": [
    "import pandas as pd\n",
    "import matplotlib.pyplot as plt\n",
    "import seaborn as sb"
   ]
  },
  {
   "cell_type": "code",
   "execution_count": 13,
   "metadata": {},
   "outputs": [
    {
     "data": {
      "text/html": [
       "<div>\n",
       "<style scoped>\n",
       "    .dataframe tbody tr th:only-of-type {\n",
       "        vertical-align: middle;\n",
       "    }\n",
       "\n",
       "    .dataframe tbody tr th {\n",
       "        vertical-align: top;\n",
       "    }\n",
       "\n",
       "    .dataframe thead th {\n",
       "        text-align: right;\n",
       "    }\n",
       "</style>\n",
       "<table border=\"1\" class=\"dataframe\">\n",
       "  <thead>\n",
       "    <tr style=\"text-align: right;\">\n",
       "      <th></th>\n",
       "      <th>value</th>\n",
       "    </tr>\n",
       "    <tr>\n",
       "      <th>date</th>\n",
       "      <th></th>\n",
       "    </tr>\n",
       "  </thead>\n",
       "  <tbody>\n",
       "    <tr>\n",
       "      <th>2016-05-09</th>\n",
       "      <td>1201</td>\n",
       "    </tr>\n",
       "    <tr>\n",
       "      <th>2016-05-10</th>\n",
       "      <td>2329</td>\n",
       "    </tr>\n",
       "    <tr>\n",
       "      <th>2016-05-11</th>\n",
       "      <td>1716</td>\n",
       "    </tr>\n",
       "    <tr>\n",
       "      <th>2016-05-12</th>\n",
       "      <td>10539</td>\n",
       "    </tr>\n",
       "    <tr>\n",
       "      <th>2016-05-13</th>\n",
       "      <td>6933</td>\n",
       "    </tr>\n",
       "    <tr>\n",
       "      <th>...</th>\n",
       "      <td>...</td>\n",
       "    </tr>\n",
       "    <tr>\n",
       "      <th>2019-11-29</th>\n",
       "      <td>171584</td>\n",
       "    </tr>\n",
       "    <tr>\n",
       "      <th>2019-11-30</th>\n",
       "      <td>141161</td>\n",
       "    </tr>\n",
       "    <tr>\n",
       "      <th>2019-12-01</th>\n",
       "      <td>142918</td>\n",
       "    </tr>\n",
       "    <tr>\n",
       "      <th>2019-12-02</th>\n",
       "      <td>220144</td>\n",
       "    </tr>\n",
       "    <tr>\n",
       "      <th>2019-12-03</th>\n",
       "      <td>158549</td>\n",
       "    </tr>\n",
       "  </tbody>\n",
       "</table>\n",
       "<p>1304 rows × 1 columns</p>\n",
       "</div>"
      ],
      "text/plain": [
       "             value\n",
       "date              \n",
       "2016-05-09    1201\n",
       "2016-05-10    2329\n",
       "2016-05-11    1716\n",
       "2016-05-12   10539\n",
       "2016-05-13    6933\n",
       "...            ...\n",
       "2019-11-29  171584\n",
       "2019-11-30  141161\n",
       "2019-12-01  142918\n",
       "2019-12-02  220144\n",
       "2019-12-03  158549\n",
       "\n",
       "[1304 rows x 1 columns]"
      ]
     },
     "execution_count": 13,
     "metadata": {},
     "output_type": "execute_result"
    }
   ],
   "source": [
    "df = pd.read_csv('fcc-forum-pageviews.csv', index_col = 'date')\n",
    "df\n"
   ]
  },
  {
   "cell_type": "code",
   "execution_count": 16,
   "metadata": {},
   "outputs": [
    {
     "data": {
      "text/html": [
       "<div>\n",
       "<style scoped>\n",
       "    .dataframe tbody tr th:only-of-type {\n",
       "        vertical-align: middle;\n",
       "    }\n",
       "\n",
       "    .dataframe tbody tr th {\n",
       "        vertical-align: top;\n",
       "    }\n",
       "\n",
       "    .dataframe thead th {\n",
       "        text-align: right;\n",
       "    }\n",
       "</style>\n",
       "<table border=\"1\" class=\"dataframe\">\n",
       "  <thead>\n",
       "    <tr style=\"text-align: right;\">\n",
       "      <th></th>\n",
       "      <th>value</th>\n",
       "    </tr>\n",
       "    <tr>\n",
       "      <th>date</th>\n",
       "      <th></th>\n",
       "    </tr>\n",
       "  </thead>\n",
       "  <tbody>\n",
       "    <tr>\n",
       "      <th>2016-05-10</th>\n",
       "      <td>2329</td>\n",
       "    </tr>\n",
       "    <tr>\n",
       "      <th>2016-05-11</th>\n",
       "      <td>1716</td>\n",
       "    </tr>\n",
       "    <tr>\n",
       "      <th>2016-05-12</th>\n",
       "      <td>10539</td>\n",
       "    </tr>\n",
       "    <tr>\n",
       "      <th>2016-05-13</th>\n",
       "      <td>6933</td>\n",
       "    </tr>\n",
       "    <tr>\n",
       "      <th>2016-05-14</th>\n",
       "      <td>3127</td>\n",
       "    </tr>\n",
       "    <tr>\n",
       "      <th>...</th>\n",
       "      <td>...</td>\n",
       "    </tr>\n",
       "    <tr>\n",
       "      <th>2019-11-29</th>\n",
       "      <td>171584</td>\n",
       "    </tr>\n",
       "    <tr>\n",
       "      <th>2019-11-30</th>\n",
       "      <td>141161</td>\n",
       "    </tr>\n",
       "    <tr>\n",
       "      <th>2019-12-01</th>\n",
       "      <td>142918</td>\n",
       "    </tr>\n",
       "    <tr>\n",
       "      <th>2019-12-02</th>\n",
       "      <td>220144</td>\n",
       "    </tr>\n",
       "    <tr>\n",
       "      <th>2019-12-03</th>\n",
       "      <td>158549</td>\n",
       "    </tr>\n",
       "  </tbody>\n",
       "</table>\n",
       "<p>1299 rows × 1 columns</p>\n",
       "</div>"
      ],
      "text/plain": [
       "             value\n",
       "date              \n",
       "2016-05-10    2329\n",
       "2016-05-11    1716\n",
       "2016-05-12   10539\n",
       "2016-05-13    6933\n",
       "2016-05-14    3127\n",
       "...            ...\n",
       "2019-11-29  171584\n",
       "2019-11-30  141161\n",
       "2019-12-01  142918\n",
       "2019-12-02  220144\n",
       "2019-12-03  158549\n",
       "\n",
       "[1299 rows x 1 columns]"
      ]
     },
     "execution_count": 16,
     "metadata": {},
     "output_type": "execute_result"
    }
   ],
   "source": [
    "minimo = df['value'].min()\n",
    "maximo = df['value'].max()\n",
    "\n",
    "# O sea, hay que dejar todos los datos que estén sobre el 2.5% del mínimo, y bajo el 2.5% del maximo\n",
    "valor_minimo = minimo + (minimo * 0.025)\n",
    "valor_maximo = maximo - (maximo * 0.025)\n",
    "\n",
    "mask_minimo = df['value'] > (valor_minimo)\n",
    "mask_maximo = df['value'] < (valor_maximo)\n",
    "\n",
    "mask_total = (mask_minimo) & (mask_maximo)\n",
    "\n",
    "df = df[mask_total]\n",
    "df"
   ]
  },
  {
   "cell_type": "code",
   "execution_count": 40,
   "metadata": {},
   "outputs": [
    {
     "data": {
      "text/plain": [
       "[<matplotlib.axis.XTick at 0x206c529dc90>,\n",
       " <matplotlib.axis.XTick at 0x206c529dc60>,\n",
       " <matplotlib.axis.XTick at 0x206c529d960>,\n",
       " <matplotlib.axis.XTick at 0x206c52be740>,\n",
       " <matplotlib.axis.XTick at 0x206c52bee90>,\n",
       " <matplotlib.axis.XTick at 0x206c52bf5e0>,\n",
       " <matplotlib.axis.XTick at 0x206c52be440>,\n",
       " <matplotlib.axis.XTick at 0x206c52bfdc0>]"
      ]
     },
     "execution_count": 40,
     "metadata": {},
     "output_type": "execute_result"
    },
    {
     "data": {
      "image/png": "[encoded data removed]",
      "text/plain": [
       "<Figure size 864x432 with 1 Axes>"
      ]
     },
     "metadata": {
      "needs_background": "light"
     },
     "output_type": "display_data"
    }
   ],
   "source": [
    "fig, axis = plt.subplots(figsize = (12, 6))\n",
    "\n",
    "axis.set_xlabel('Date')\n",
    "axis.set_ylabel('Page Views')\n",
    "axis.set_title('Daily freeCodeCamp Forum Page Views 5/2016-12/2019')\n",
    "axis.plot(df, color = 'red')\n",
    "\n",
    "ticks_cambiados = axis.get_xticks()[::175] \n",
    "axis.set_xticks(ticks_cambiados)\n"
   ]
  },
  {
   "cell_type": "code",
   "execution_count": null,
   "metadata": {},
   "outputs": [],
   "source": []
  },
  {
   "cell_type": "code",
   "execution_count": 41,
   "metadata": {},
   "outputs": [
    {
     "ename": "KeyError",
     "evalue": "None",
     "output_type": "error",
     "traceback": [
      "\u001b[1;31m---------------------------------------------------------------------------\u001b[0m",
      "\u001b[1;31mKeyError\u001b[0m                                  Traceback (most recent call last)",
      "\u001b[1;32mc:\\Users\\Hp paviolion 360\\OneDrive\\Escritorio\\Javier\\Data Analysis\\Page_View_Time_Series_Visualizer\\time_series_visualizer.ipynb Cell 6'\u001b[0m in \u001b[0;36m<cell line: 7>\u001b[1;34m()\u001b[0m\n\u001b[0;32m     <a href='vscode-notebook-cell:/c%3A/Users/Hp%20paviolion%20360/OneDrive/Escritorio/Javier/Data%20Analysis/Page_View_Time_Series_Visualizer/time_series_visualizer.ipynb#ch0000005?line=18'>19</a>\u001b[0m \u001b[39m# Cuando se cambia de mes\u001b[39;00m\n\u001b[0;32m     <a href='vscode-notebook-cell:/c%3A/Users/Hp%20paviolion%20360/OneDrive/Escritorio/Javier/Data%20Analysis/Page_View_Time_Series_Visualizer/time_series_visualizer.ipynb#ch0000005?line=19'>20</a>\u001b[0m \u001b[39mif\u001b[39;00m mes \u001b[39m!=\u001b[39m mes_previo:\n\u001b[1;32m---> <a href='vscode-notebook-cell:/c%3A/Users/Hp%20paviolion%20360/OneDrive/Escritorio/Javier/Data%20Analysis/Page_View_Time_Series_Visualizer/time_series_visualizer.ipynb#ch0000005?line=20'>21</a>\u001b[0m     promedio \u001b[39m=\u001b[39m diccionario_total[año][mes_previo] \u001b[39m/\u001b[39m dias_en_el_mes\n\u001b[0;32m     <a href='vscode-notebook-cell:/c%3A/Users/Hp%20paviolion%20360/OneDrive/Escritorio/Javier/Data%20Analysis/Page_View_Time_Series_Visualizer/time_series_visualizer.ipynb#ch0000005?line=21'>22</a>\u001b[0m     dias_en_el_mes \u001b[39m=\u001b[39m \u001b[39m1\u001b[39m\n\u001b[0;32m     <a href='vscode-notebook-cell:/c%3A/Users/Hp%20paviolion%20360/OneDrive/Escritorio/Javier/Data%20Analysis/Page_View_Time_Series_Visualizer/time_series_visualizer.ipynb#ch0000005?line=22'>23</a>\u001b[0m     diccionario_total[año][mes] \u001b[39m=\u001b[39m df\u001b[39m.\u001b[39mloc[fecha]\n",
      "\u001b[1;31mKeyError\u001b[0m: None"
     ]
    }
   ],
   "source": [
    "diccionario_total = {}\n",
    "\n",
    "mes_previo = None\n",
    "año_previo = None\n",
    "dias_en_el_mes = 0\n",
    "\n",
    "for fecha in df.index:\n",
    "\n",
    "    parse = fecha.split('-')\n",
    "    año = parse[0]\n",
    "    mes = parse[1]\n",
    "    dia = parse[2]\n",
    "\n",
    "    # Cuando se cambia de año\n",
    "    if año != año_previo:\n",
    "        diccionario_total[año] = {f'{mes}': df.loc[fecha]}\n",
    "        dias_en_el_mes = 1\n",
    "\n",
    "    # Cuando se cambia de mes\n",
    "    if mes != mes_previo:\n",
    "        if mes_previo:\n",
    "            promedio = diccionario_total[año][mes_previo] / dias_en_el_mes\n",
    "        \n",
    "        dias_en_el_mes = 1\n",
    "        diccionario_total[año][mes] = df.loc[fecha]\n",
    "\n",
    "\n",
    "    else:\n",
    "        diccionario_total[año][mes] += df.loc[fecha]\n",
    "    \n",
    "    mes_previo = mes\n",
    "    año_previo = año\n",
    "\n",
    "diccionario_total"
   ]
  },
  {
   "cell_type": "code",
   "execution_count": 42,
   "metadata": {},
   "outputs": [
    {
     "data": {
      "text/plain": [
       "value    16098\n",
       "Name: 2016-06-11, dtype: int64"
      ]
     },
     "execution_count": 42,
     "metadata": {},
     "output_type": "execute_result"
    }
   ],
   "source": [
    "df.loc['2016-06-11']"
   ]
  },
  {
   "cell_type": "code",
   "execution_count": null,
   "metadata": {},
   "outputs": [],
   "source": []
  }
 ],
 "metadata": {
  "interpreter": {
   "hash": "f176156792602309ec26ef65effd58c64667a7b3f6d4d0d17e60b14ddcaee01f"
  },
  "kernelspec": {
   "display_name": "Python 3.10.2 64-bit",
   "language": "python",
   "name": "python3"
  },
  "language_info": {
   "codemirror_mode": {
    "name": "ipython",
    "version": 3
   },
   "file_extension": ".py",
   "mimetype": "text/x-python",
   "name": "python",
   "nbconvert_exporter": "python",
   "pygments_lexer": "ipython3",
   "version": "3.10.2"
  },
  "orig_nbformat": 4
 },
 "nbformat": 4,
 "nbformat_minor": 2
}
